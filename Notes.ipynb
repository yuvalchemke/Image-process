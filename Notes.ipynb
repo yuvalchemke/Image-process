{
  "nbformat": 4,
  "nbformat_minor": 0,
  "metadata": {
    "colab": {
      "provenance": [],
      "toc_visible": true,
      "authorship_tag": "ABX9TyP2UuuHHsE0JToug+C3m5Qd",
      "include_colab_link": true
    },
    "kernelspec": {
      "name": "python3",
      "display_name": "Python 3"
    },
    "language_info": {
      "name": "python"
    }
  },
  "cells": [
    {
      "cell_type": "markdown",
      "metadata": {
        "id": "view-in-github",
        "colab_type": "text"
      },
      "source": [
        "<a href=\"https://colab.research.google.com/github/yuvalchemke/Image-process/blob/main/Notes.ipynb\" target=\"_parent\"><img src=\"https://colab.research.google.com/assets/colab-badge.svg\" alt=\"Open In Colab\"/></a>"
      ]
    },
    {
      "cell_type": "markdown",
      "source": [
        "# Liberies\n"
      ],
      "metadata": {
        "id": "vlVDxhfm0n7V"
      }
    },
    {
      "cell_type": "code",
      "source": [
        "# mount Google Drive\n",
        "from google.colab import drive\n",
        "drive.mount('/content/drive')             \n",
        "\n",
        "# Liberies\n",
        "import numpy as np      # mathematical functions, random number generators, linear algebra routines, Fourier transforms, and more.\n",
        "import skimage\n",
        "import skimage.io as io # io is an input output moduile, as part of skimage\n",
        "from skimage import img_as_float # Convert an image to floating point format, with values in [0, 1]\n",
        "from skimage import filters      #functions transforming images into other images \n",
        "from skimage import color\n",
        "from skimage import io\n",
        "import glob             # The glob module finds all the path names\n",
        "                        # The glob.glob returns the list of files with their full path \n",
        "\n",
        "!pip install plantcv\n",
        "from plantcv import plantcv as pcv\n",
        "\n",
        "import matplotlib.pyplot as plt #importing pyplot to display our image !important! RGB\n",
        "import cv2              # openCV,   !important! BGR\n",
        "from google.colab.patches import cv2_imshow   #Google colab crashes if you try to display image using cv2.imshow() instead import from google.colab.patches import cv2_imshow and display\n",
        "import os               # creating and removing a directory (folder), fetching its contents, changing etc.\n",
        "\n",
        "!pip install spectral # a library for reading hyperspectral images\n",
        "from spectral import imshow, view_cube, ndvi\n",
        "import spectral.io.envi as envi\n",
        "\n",
        "import requests # lib to request image from web\n",
        "import shutil # lib to save the image locally\n",
        "import imutils\n",
        "\n",
        "import scipy.ndimage as ndi  #ndimage (n-dimensional image) package, that contains the number of general image processing and analysis functions\n",
        "\n",
        "\n",
        "# Defining a working folder, using a variable\n",
        "folder_path = r'/content/drive/MyDrive/71254_2023/02_Assignment_Submission/Yuval.Chemke'\n",
        "\n",
        "\n"
      ],
      "metadata": {
        "id": "5wUyiJyL1mYz",
        "colab": {
          "base_uri": "https://localhost:8080/"
        },
        "outputId": "f4fc0344-443c-4aca-c25e-ab44d848eca7"
      },
      "execution_count": null,
      "outputs": [
        {
          "output_type": "stream",
          "name": "stdout",
          "text": [
            "Drive already mounted at /content/drive; to attempt to forcibly remount, call drive.mount(\"/content/drive\", force_remount=True).\n",
            "Looking in indexes: https://pypi.org/simple, https://us-python.pkg.dev/colab-wheels/public/simple/\n",
            "Requirement already satisfied: spectral in /usr/local/lib/python3.7/dist-packages (0.23.1)\n",
            "Requirement already satisfied: numpy in /usr/local/lib/python3.7/dist-packages (from spectral) (1.21.6)\n"
          ]
        }
      ]
    },
    {
      "cell_type": "markdown",
      "source": [
        "# Import image"
      ],
      "metadata": {
        "id": "JPufoE-MubmZ"
      }
    },
    {
      "cell_type": "markdown",
      "source": [
        "## Create a new images folder"
      ],
      "metadata": {
        "id": "akdcVgIMumW4"
      }
    },
    {
      "cell_type": "code",
      "source": [
        "# function to create a folder if doesn't exist\n",
        "\n",
        "import os # import os lib\n",
        "\n",
        "def createDir(path):\n",
        "  doesExist = os.path.exists(path) # checks whether the specified path exists\n",
        "  if not doesExist:\n",
        "    os.makedirs(path) # create path, since it doesn't exist\n",
        "    print(\"The new directory was created!\")"
      ],
      "metadata": {
        "id": "x1CE3vyJwZPH"
      },
      "execution_count": null,
      "outputs": []
    },
    {
      "cell_type": "code",
      "source": [
        "# create images folder in our folder_path\n",
        "images_path = f'{folder_path}/images' # your folder you want to create!\n",
        "createDir(images_path)"
      ],
      "metadata": {
        "id": "ZoJmgjkIwcsW"
      },
      "execution_count": null,
      "outputs": []
    },
    {
      "cell_type": "code",
      "source": [
        "# lets check that the images folder was actually created\n",
        "if os.path.exists(images_path):\n",
        "  print(f'Path: {images_path}\\nThe above path exists!')\n",
        "else:\n",
        "  print(f'Path: {images_path}\\nThe above path does not exist!')"
      ],
      "metadata": {
        "id": "JFcBd7kwweJQ"
      },
      "execution_count": null,
      "outputs": []
    },
    {
      "cell_type": "markdown",
      "source": [
        "## Image from a url"
      ],
      "metadata": {
        "id": "ebgPAyJxwga_"
      }
    },
    {
      "cell_type": "code",
      "source": [
        "def downloadImageFromURL (url='', destination_image_path=''):\n",
        "\n",
        "  # The method will take in two parameters, the url variable you created earlier, and stream: True.\n",
        "  # by adding this second argument in guarantees no interruptions will occur when the method is running.\n",
        "  res = requests.get(url, stream = True) \n",
        "\n",
        "  if res.status_code == 200:\n",
        "      with open(destination_image_path,'wb') as f:\n",
        "          shutil.copyfileobj(res.raw, f)\n",
        "      print('Image sucessfully Downloaded: ', destination_image_path)\n",
        "  else:\n",
        "      print('Image Couldn\\'t be retrieved')"
      ],
      "metadata": {
        "id": "b81VMexMwwX3"
      },
      "execution_count": null,
      "outputs": []
    },
    {
      "cell_type": "code",
      "source": [
        "# display the image\n",
        "watermelon_image = io.imread(path_to_save_image)\n",
        "plt.imshow(watermelon_image)"
      ],
      "metadata": {
        "id": "LtTDnbJ2xMF2"
      },
      "execution_count": null,
      "outputs": []
    },
    {
      "cell_type": "markdown",
      "source": [
        "# Basic working on an image"
      ],
      "metadata": {
        "id": "P9l8-2n02-ap"
      }
    },
    {
      "cell_type": "markdown",
      "source": [
        "## Basic"
      ],
      "metadata": {
        "id": "-7hqFBqb_Ot1"
      }
    },
    {
      "cell_type": "code",
      "source": [
        "# Read & display image\n",
        "image = skimage.io.imread(fname=f\"{folder_path}/images/parrot.jpeg\")     # reading a image from my drive\n",
        "plt.figure(figsize=(5,5))                                                # the size of the image on the screen\n",
        "plt.imshow(image)                                                        # display image \n",
        "\n",
        "\n",
        "# Image info\n",
        "image_info = [image.shape, image.min(), image.max(), image.dtype] # a simple list with some info regarding the image\n",
        "for value in image_info: # printing the values\n",
        "  print(value)\n"
      ],
      "metadata": {
        "id": "NvVyTxsH_UFm"
      },
      "execution_count": null,
      "outputs": []
    },
    {
      "cell_type": "markdown",
      "source": [
        "## Subplot\n",
        "\n",
        "A way to display an images like a matrix\n",
        "\n",
        "\n",
        "\n",
        "$subplot_{m,n} = \n",
        "\\begin{pmatrix} \n",
        " a_{1,1} & a_{1,2} & \\cdots & a_{1,n} \\\\\n",
        " a_{2,1} & a_{2,2} & \\cdots & a_{2,n} \\\\\n",
        "\\vdots & \\vdots & \\ddots & \\vdots \\\\\n",
        " a_{m,1} & a_{m,2} & \\cdots & a_{m,n} \n",
        "\\end{pmatrix}$"
      ],
      "metadata": {
        "id": "CpXrCgLJ5_E9"
      }
    },
    {
      "cell_type": "code",
      "source": [
        "#display\n",
        "plt.subplot(1, 3, 1) # 1 rows, 1 columns, position 1\n",
        "plt.title('text ')\n",
        "plt.imshow(image)\n",
        "\n",
        "\n",
        "#plt.subplot(m,n,i)  \n",
        "#m row, n columns, position i\n",
        "#m how many rows are in the matrix\n",
        "#n how many colloms in the matrix\n",
        "#i what index in the matrix     -     i(a{2,2}) = n+1"
      ],
      "metadata": {
        "id": "c80QA-FbmVpw"
      },
      "execution_count": null,
      "outputs": []
    },
    {
      "cell_type": "code",
      "source": [
        "#display\n",
        "f, ax = plt.subplots(m,n , figsize=(20,10))\n",
        "\n",
        "ax[0,0].imshow(image)           # 1 rows, 1 columns\n",
        "ax[0,0].title.set_text('text')  # 1 rows, 1 columns\n",
        "\n",
        "ax[4,1].imshow(image)           # 5 rows, 2 columns\n",
        "ax[4,1].title.set_text('text')  # 5 rows, 2 columns"
      ],
      "metadata": {
        "id": "Vyr2YatxmUzg"
      },
      "execution_count": null,
      "outputs": []
    },
    {
      "cell_type": "markdown",
      "source": [
        "##List of images"
      ],
      "metadata": {
        "id": "N6iuzefmmbJ4"
      }
    },
    {
      "cell_type": "code",
      "source": [
        "plt.figure(figsize=(20,40))\n",
        "\n",
        "i=1\n",
        "k=0\n",
        "\n",
        "for k,img in enumerate(image_list_mgvri):\n",
        "\n",
        "  plt.subplot(10,2,i)\n",
        "\n",
        "  plt.title(f'MGVRI {k+1} ,Mean= {round((image_list_mgvri_mean[k]),2)}')\n",
        "  mgvriplot=plt.imshow(image_list_mgvri[k], cmap='gist_ncar')\n",
        "  i+=2\n",
        "  k+=1\n",
        "  plt.colorbar(orientation='vertical',pad=0)\n",
        "\n",
        "\n",
        "j=2\n",
        "t=0\n",
        "\n",
        "for t,imj in enumerate(image_list):\n",
        "  plt.subplot(10,2,j)\n",
        "  imgplot=plt.imshow(image_list[t])\n",
        "  plt.title(f'Image {t+1}')\n",
        "  j+=2\n",
        "  t+=1"
      ],
      "metadata": {
        "id": "6iy-olMvmZKQ"
      },
      "execution_count": null,
      "outputs": []
    },
    {
      "cell_type": "markdown",
      "source": [
        "## Glob"
      ],
      "metadata": {
        "id": "X5-0GxOjnsy3"
      }
    },
    {
      "cell_type": "code",
      "source": [
        "# load file paths from chosen folder into a list\n",
        "path_list = glob.glob(f'{folder_path}/images/*.*') #Rerurns a list of file names\n",
        "print(path_list)  #Prints the list containing file names"
      ],
      "metadata": {
        "id": "J56wYWh-nz7-"
      },
      "execution_count": null,
      "outputs": []
    },
    {
      "cell_type": "code",
      "source": [
        "#load each file at a time...\n",
        "image_list=[]  # Empty list to store images from the folder.\n",
        "path = \"images/test_images/*.*\"\n",
        "for path in path_list:   #Iterate through each file in the list using for\n",
        "    print(path)     # just stop here to see all file names printed\n",
        "    img = io.imread(path)  # now, we can read each file since we have the full path\n",
        "    image_list.append(img)  #C reate a list of images (not just file names but full images)"
      ],
      "metadata": {
        "id": "i5-Q3ueIn07W"
      },
      "execution_count": null,
      "outputs": []
    },
    {
      "cell_type": "code",
      "source": [
        "# Displaying one of the images from the stored list\n",
        "\n",
        "from matplotlib import pyplot as plt\n",
        "plt.imshow(image_list[2])  #View the 3rd image in the list, 0 is the first"
      ],
      "metadata": {
        "colab": {
          "base_uri": "https://localhost:8080/",
          "height": 200
        },
        "id": "A8XzOrMjoKO4",
        "outputId": "2b0f0e20-f760-4418-90db-a507078108f6"
      },
      "execution_count": null,
      "outputs": [
        {
          "output_type": "error",
          "ename": "NameError",
          "evalue": "ignored",
          "traceback": [
            "\u001b[0;31m---------------------------------------------------------------------------\u001b[0m",
            "\u001b[0;31mNameError\u001b[0m                                 Traceback (most recent call last)",
            "\u001b[0;32m<ipython-input-1-234703f0ad62>\u001b[0m in \u001b[0;36m<module>\u001b[0;34m\u001b[0m\n\u001b[1;32m      2\u001b[0m \u001b[0;34m\u001b[0m\u001b[0m\n\u001b[1;32m      3\u001b[0m \u001b[0;32mfrom\u001b[0m \u001b[0mmatplotlib\u001b[0m \u001b[0;32mimport\u001b[0m \u001b[0mpyplot\u001b[0m \u001b[0;32mas\u001b[0m \u001b[0mplt\u001b[0m\u001b[0;34m\u001b[0m\u001b[0;34m\u001b[0m\u001b[0m\n\u001b[0;32m----> 4\u001b[0;31m \u001b[0mplt\u001b[0m\u001b[0;34m.\u001b[0m\u001b[0mimshow\u001b[0m\u001b[0;34m(\u001b[0m\u001b[0mimage_list\u001b[0m\u001b[0;34m[\u001b[0m\u001b[0;36m2\u001b[0m\u001b[0;34m]\u001b[0m\u001b[0;34m)\u001b[0m  \u001b[0;31m#View the 3rd image in the list.\u001b[0m\u001b[0;34m\u001b[0m\u001b[0;34m\u001b[0m\u001b[0m\n\u001b[0m",
            "\u001b[0;31mNameError\u001b[0m: name 'image_list' is not defined"
          ]
        }
      ]
    },
    {
      "cell_type": "markdown",
      "source": [
        "## Gray scale types"
      ],
      "metadata": {
        "id": "uSjDqLKQ5z99"
      }
    },
    {
      "cell_type": "code",
      "source": [
        "# convert to grayscale from RGB and display\n",
        "gray_image = skimage.color.rgb2gray(image)\n",
        "plt.figure(figsize=(5,5))\n",
        "plt.imshow(gray_image, cmap='Greys_r')"
      ],
      "metadata": {
        "id": "CddNB8bI555O"
      },
      "execution_count": null,
      "outputs": []
    },
    {
      "cell_type": "markdown",
      "source": [
        "## Extracting the RED, GREEN and BLUE channelse"
      ],
      "metadata": {
        "id": "hYzRv4TO-j0J"
      }
    },
    {
      "cell_type": "code",
      "source": [
        "# Extracting the RED, GREEN and BLUE channelse and display:\n",
        "red_channel = image[:,:,0]\n",
        "green_channel = image[:,:,1]\n",
        "blue_channel = image[:,:,2]\n",
        "\n",
        "plt.subplot(1,3,1)\n",
        "plt.imshow(red_channel, cmap='Reds_r') # noitce the color map. the '_r' shows the reversed colormap.\n",
        "plt.subplot(1,3,2)\n",
        "plt.imshow(green_channel, cmap='Greens')\n",
        "plt.subplot(1,3,3)\n",
        "plt.imshow(blue_channel, cmap='Blues')\n",
        "\n",
        "# Adding the channels back again using np.stack()    - !important! we need to stack it up in the right order or we will mess the photo\n",
        "# The axis parameter specifies the index of the new axis in the dimensions of the result. For example, if axis=0 it will be the first dimension and if axis=-1 it will be the last dimension.\n",
        "image_stacked = np.stack((red_channel,green_channel,blue_channel),axis=-1) \n",
        "image_stacked.shape  # checking we have 3 dimension\n"
      ],
      "metadata": {
        "id": "6b9VI39m6DTV"
      },
      "execution_count": null,
      "outputs": []
    },
    {
      "cell_type": "code",
      "source": [
        "# Using cv2.split() to split channels of coloured image \n",
        "b,g,r = cv2.split(image)\n",
        "\n",
        "plt.figure(figsize=(20,20))\n",
        "plt.subplot(1,3,1)\n",
        "plt.imshow(r, cmap='Reds')\n",
        "plt.subplot(1,3,2)\n",
        "plt.imshow(g, cmap='Greens')\n",
        "plt.subplot(1,3,3)\n",
        "plt.imshow(b, cmap='Blues')\n",
        "\n",
        "# cv2.merge()\n",
        "merged_image = cv2.merge([r, g, b]) # notice that we merged to RGB and not BGR\n",
        "\n",
        "plt.imshow(merged_image) # RGB image"
      ],
      "metadata": {
        "id": "bgGy3CZj-z_m"
      },
      "execution_count": null,
      "outputs": []
    },
    {
      "cell_type": "markdown",
      "source": [
        "### MGVRI"
      ],
      "metadata": {
        "id": "91n4uMq9l2OZ"
      }
    },
    {
      "cell_type": "code",
      "source": [
        "# function to calculate MGVRI from a RGB image\n",
        "def calc_mgvri(image):\n",
        "  R = image[:,:,0]\n",
        "  G = image[:,:,1]\n",
        "  mgvri = (G**2-R**2)/(G**2+R**2)\n",
        "\n",
        "  return mgvri"
      ],
      "metadata": {
        "id": "e9M_Wa58l1cA"
      },
      "execution_count": null,
      "outputs": []
    },
    {
      "cell_type": "markdown",
      "source": [
        "## Choosing a pixel and plotting it's reflectance spectrum: "
      ],
      "metadata": {
        "id": "hRvtpl53sEru"
      }
    },
    {
      "cell_type": "code",
      "source": [
        "def plot_pixel(img,pixel_y,pixel_x,bands):\n",
        "\n",
        "  leaf_pixel = img[\n",
        "      pixel_y:pixel_y+1,\n",
        "      pixel_x:pixel_x+1,\n",
        "      :]\n",
        "\n",
        "  leaf_pixel_squeezed = np.squeeze(leaf_pixel)\n",
        "\n",
        "  plt.plot(bands, leaf_pixel_squeezed)\n",
        "  plt.title('Spectral Footprint\\n(Pixel {},{})'.format(\n",
        "      pixel_x, pixel_y),fontsize=16)\n",
        "  plt.xlabel('Wavelength',fontsize=14)\n",
        "  plt.ylabel('Reflectance',fontsize=14)\n",
        "  plt.show()\n",
        "  \n",
        "  plot_pixel(corrected_nparr, 100, 100, bands)"
      ],
      "metadata": {
        "id": "o5tjxF5UsJRv"
      },
      "execution_count": null,
      "outputs": []
    },
    {
      "cell_type": "code",
      "source": [
        "def plot_several_pixel(img,pixels_tuples_array,bands):\n",
        "  for pixel_xy in pixels_tuples_array:\n",
        "    leaf_pixel = img[ \n",
        "      pixel_xy[1]:pixel_xy[1]+1, #y pixel\n",
        "      pixel_xy[1]:pixel_xy[1]+1, #x pixel\n",
        "      :]\n",
        "    leaf_pixel_squeezed = np.squeeze(leaf_pixel) #squeeze\n",
        "\n",
        "    plt.plot(bands, leaf_pixel_squeezed, label =f\"x={pixel_xy[1]}, y={pixel_xy[1]}\"  )\n",
        "  plt.title('Spectral signature',fontsize=16)\n",
        "  plt.xlabel('Wavelength',fontsize=14)\n",
        "  plt.ylabel('Reflectance',fontsize=14)\n",
        "  plt.legend()\n",
        "  plt.show()\n",
        "\n",
        "  plot_several_pixel(corrected_nparr,[(300,350),(420,450),(350,490)],bands)"
      ],
      "metadata": {
        "id": "Tq0NGgDrsMS-"
      },
      "execution_count": null,
      "outputs": []
    },
    {
      "cell_type": "markdown",
      "source": [
        "## Histograms"
      ],
      "metadata": {
        "id": "5Gn6srQS1Jsq"
      }
    },
    {
      "cell_type": "markdown",
      "source": [
        "What is a histogram? So what is histogram ? You can consider histogram as a graph or plot, which gives you an overall idea about the intensity distribution of an image. It is a plot with pixel values (ranging from 0 to 255, not always) in X-axis and corresponding number of pixels in the image on Y-axis.\n",
        "\n",
        "It is just another way of understanding the image. By looking at the histogram of an image, you get intuition about contrast, brightness and intensity distribution of that image.\n",
        "\n",
        "This is the function to find the histogram:\n",
        "\n",
        "       hist = cv.calcHist(images, channels, mask, histSize, ranges[, hist[, accumulate]])\n"
      ],
      "metadata": {
        "id": "bZBC6Dbt2MpB"
      }
    },
    {
      "cell_type": "markdown",
      "source": [
        "1.   **images** : it is the source image of type uint8 or float32. it should be given in square brackets, ie, \"[img]\".\n",
        "2.   **channels** : it is also given in square brackets. It is the index of channel for which we calculate histogram. For example, if input is grayscale image, its value is [0]. For color image, you can pass [0], [1] or [2] to calculate histogram of blue, green or red channel respectively.\n",
        "3. **mask** : mask image. To find histogram of full image, it is given as \"None\". But if you want to find histogram of particular region of image, you have to create a mask image for that and give it as mask.\n",
        "4. **histSize** : this represents our BIN count. Need to be given in square brackets. For full scale, we pass [256].\n",
        "5. **ranges** : this is our RANGE. Normally, it is [0,256]. (the hist and accumalte inside the ranges, enables to compute a single histogram from several sets of arrays.)"
      ],
      "metadata": {
        "id": "LufbwaIg2k4I"
      }
    },
    {
      "cell_type": "code",
      "source": [
        "# computing the histogram of all channels of our watermelon image\n",
        "img = img_list[0].copy()\n",
        "  \n",
        "# plot the above computed histogram\n",
        "colors = ('r','g','b') # for the line color\n",
        "\n",
        "for i,color in enumerate(colors):\n",
        "  hist = cv2.calcHist([img],[i],None,[256],[0,256]) # our image, channel(0/1/2), no mask, 256 bins, range 0-255\n",
        "  plt.plot(hist, color = color) # r/g/b color for each line\n",
        "plt.title('Image histogram (RGB) of our watermelon image', y=1.03) # the y makes the title a bit higher\n",
        "plt.xlabel(\"Pixel Value\")\n",
        "plt.ylabel(\"Count\")\n",
        "plt.show()"
      ],
      "metadata": {
        "id": "4vGpwAl41kZC"
      },
      "execution_count": null,
      "outputs": []
    },
    {
      "cell_type": "code",
      "source": [
        "# using plt to plot a histogram (one channel)\n",
        "\n",
        "hist_with_plt = plt.hist(img[:,:,1].flatten(), bins = 256, color='g')\n",
        "plt.title('Image histogram (green layer) of our watermelon image', y=1.03) # the y makes the title a bit higher\n",
        "plt.xlabel(\"Pixel Value\")\n",
        "plt.ylabel(\"Pixel Count\")\n",
        "plt.show()"
      ],
      "metadata": {
        "id": "ax55dYFh1Nth"
      },
      "execution_count": null,
      "outputs": []
    },
    {
      "cell_type": "code",
      "source": [
        "# using plt to plot a histogram (multi channel)\n",
        "\n",
        "colors = ('r','g','b') # for the line color\n",
        "\n",
        "hist = plt.hist(img.flatten(), bins = 256, color = 'orange') # plotting the total histogram\n",
        "\n",
        "#loop to plot for each channel\n",
        "for i,color in enumerate(colors):\n",
        "  hist = plt.hist(img[:, :, i].flatten(), bins = 256, color = color, alpha = 0.5)\n",
        "\n",
        "# some more details for the figure\n",
        "plt.title('Image histogram (RGB) of our watermelon image', y=1.03) # the y makes the title a bit higher\n",
        "plt.xlabel(\"Pixel Value\")\n",
        "plt.ylabel(\"Pixel Count\")\n",
        "plt.legend(['Total', 'Red Channel', 'Green Channel', 'Blue Channel']) # adding a legend\n",
        "plt.show()"
      ],
      "metadata": {
        "id": "yXQ86ZB81RvJ"
      },
      "execution_count": null,
      "outputs": []
    },
    {
      "cell_type": "markdown",
      "source": [
        "# Advanced working on an image"
      ],
      "metadata": {
        "id": "CSesmDj03GnR"
      }
    },
    {
      "cell_type": "markdown",
      "source": [
        "## Showing all images"
      ],
      "metadata": {
        "id": "_eU6_axZKvjM"
      }
    },
    {
      "cell_type": "code",
      "source": [
        "def imshow_all(images, titles=None):\n",
        "    images = [img_as_float(img) for img in images]\n",
        "\n",
        "    if titles is None:\n",
        "        titles = [''] * len(images)\n",
        "    vmin = min(map(np.min, images))\n",
        "    vmax = max(map(np.max, images))\n",
        "    ncols = len(images)\n",
        "    height = 5\n",
        "    width = height * len(images)\n",
        "    fig, axes = plt.subplots(nrows=1, ncols=ncols,\n",
        "                             figsize=(width, height))\n",
        "    for ax, img, label in zip(axes.ravel(), images, titles):\n",
        "        ax.imshow(img, vmin=vmin, vmax=vmax, cmap = 'gray')\n",
        "        ax.set_title(label)\n",
        "\n",
        "#display\n",
        "titles = [' ', '', '', '']\n",
        "imshow_all([image, image1, image2, image3], titles=titles)\n"
      ],
      "metadata": {
        "id": "Idc-Dj2tKkwz"
      },
      "execution_count": null,
      "outputs": []
    },
    {
      "cell_type": "markdown",
      "source": [
        "## Local filter"
      ],
      "metadata": {
        "id": "KLjN4E2U3rCA"
      }
    },
    {
      "cell_type": "code",
      "source": [
        "bright_square = np.zeros((7, 7), dtype=float) # create a zero matrix\n",
        "bright_square[2:5, 2:5] = 1 # change center values to 1"
      ],
      "metadata": {
        "id": "8qTEL64JIdav"
      },
      "execution_count": null,
      "outputs": []
    },
    {
      "cell_type": "code",
      "source": [
        "# plotting the image\n",
        "fig, ax = plt.subplots()\n",
        "ax.imshow(bright_square, cmap = 'Greys_r'); # I reversed the colormap "
      ],
      "metadata": {
        "id": "OvfyAkS4IxMG"
      },
      "execution_count": null,
      "outputs": []
    },
    {
      "cell_type": "markdown",
      "source": [
        "## Mean filter"
      ],
      "metadata": {
        "id": "n2pjqLxUId7W"
      }
    },
    {
      "cell_type": "code",
      "source": [
        "mean_kernel = np.full((3, 3), 1/9) # defining our mean kernel (3,3) with values of 1/9"
      ],
      "metadata": {
        "id": "rW64iWu7IlkG"
      },
      "execution_count": null,
      "outputs": []
    },
    {
      "cell_type": "code",
      "source": [
        "precision 2\n",
        "print('Our original array:\\n',bright_square)\n",
        "print('\\nOur convolved array:\\n',ndi.correlate(bright_square, mean_kernel))"
      ],
      "metadata": {
        "id": "R7m-wUOUJ6Af"
      },
      "execution_count": null,
      "outputs": []
    },
    {
      "cell_type": "markdown",
      "source": [
        "## Gaussian filter\n",
        "\n",
        "The classic image filter is the Gaussian filter. This is similar to the mean filter, in that it tends to smooth images. The Gaussian filter, however, doesn't weight all values in the neighborhood equally. Instead, pixels closer to the center are weighted more than those farther away."
      ],
      "metadata": {
        "id": "Tum9oaVNMvbp"
      }
    },
    {
      "cell_type": "code",
      "source": [
        "sigma = 1 # for the gaussian filter\n",
        "smooth = filters.gaussian(bright_square, sigma)    # The Gaussian filter returns a float image, regardless of input.\n",
        "                                                   # Cast to float so the images have comparable intensity ranges.\n"
      ],
      "metadata": {
        "id": "IicdbppjMygQ"
      },
      "execution_count": null,
      "outputs": []
    },
    {
      "cell_type": "markdown",
      "source": [
        "## Canny edge detector"
      ],
      "metadata": {
        "id": "LDXb5UYxl2hg"
      }
    },
    {
      "cell_type": "code",
      "source": [
        "canny_edge = cv2.Canny(image, 195, 200)  #Supply Thresholds 1 and 2 \n",
        "\n",
        "plt.imshow(canny_edge, cmap = 'gray')"
      ],
      "metadata": {
        "id": "fjAmc98Gl5qY"
      },
      "execution_count": null,
      "outputs": []
    },
    {
      "cell_type": "code",
      "source": [
        "canny_edge = pcv.canny_edge_detect(img=plant_image, sigma=2, low_thresh=20, high_thresh=70, thickness=3)"
      ],
      "metadata": {
        "id": "jVZHKO9mmDHo"
      },
      "execution_count": null,
      "outputs": []
    },
    {
      "cell_type": "markdown",
      "source": [
        "## Fourier Transform\n",
        "\n",
        "Fourier transform converts an image (or any signal) from spatial (or time) domain to frequency domain"
      ],
      "metadata": {
        "id": "Ip9qItydNZ1l"
      }
    },
    {
      "cell_type": "code",
      "source": [],
      "metadata": {
        "id": "-Jclrz-2p0B0"
      },
      "execution_count": null,
      "outputs": []
    },
    {
      "cell_type": "markdown",
      "source": [],
      "metadata": {
        "id": "Vylx0C19UYIl"
      }
    },
    {
      "cell_type": "markdown",
      "source": [
        "# LaTeX"
      ],
      "metadata": {
        "id": "FNC9Kf-KbgPN"
      }
    },
    {
      "cell_type": "markdown",
      "source": [
        "## colab notebook of LaTeX - 1\n",
        "\n",
        "https://colab.research.google.com/github/bebi103a/bebi103a.github.io/blob/master/lessons/00/intro_to_latex.ipynb#scrollTo=7lcn-RJ2cHHP"
      ],
      "metadata": {
        "id": "g1Zv4wu0lPoB"
      }
    },
    {
      "cell_type": "markdown",
      "source": [
        "## colab notebook of LaTeX - 2\n",
        "\n",
        "https://colab.research.google.com/github/johnpharmd/DS-Sprint-03-Creating-Professional-Portfolios/blob/master/LaTeX.ipynb#scrollTo=lXWKRRrbuMtf"
      ],
      "metadata": {
        "id": "POyGcThnmsIY"
      }
    },
    {
      "cell_type": "markdown",
      "source": [
        "# Forms\n",
        "\n",
        "https://ipywidgets.readthedocs.io/en/latest/examples/Widget%20List.html#Button\n",
        "\n",
        "https://colab.research.google.com/notebooks/forms.ipynb#scrollTo=WPib9hvO8Pmb"
      ],
      "metadata": {
        "id": "y6Y8oQ0KIRx6"
      }
    },
    {
      "cell_type": "code",
      "source": [
        "a = widgets.FloatText()\n",
        "b = widgets.FloatSlider()\n",
        "display(a,b)\n",
        "\n",
        "mylink = widgets.jslink((a, 'value'), (b, 'value'))"
      ],
      "metadata": {
        "colab": {
          "base_uri": "https://localhost:8080/",
          "height": 235
        },
        "id": "ag0dtyeXdCUB",
        "outputId": "6c79801b-66af-4f78-83e5-827abfe7aa8d"
      },
      "execution_count": null,
      "outputs": [
        {
          "output_type": "error",
          "ename": "NameError",
          "evalue": "ignored",
          "traceback": [
            "\u001b[0;31m---------------------------------------------------------------------------\u001b[0m",
            "\u001b[0;31mNameError\u001b[0m                                 Traceback (most recent call last)",
            "\u001b[0;32m<ipython-input-1-cfa4a005603f>\u001b[0m in \u001b[0;36m<module>\u001b[0;34m\u001b[0m\n\u001b[0;32m----> 1\u001b[0;31m \u001b[0ma\u001b[0m \u001b[0;34m=\u001b[0m \u001b[0mwidgets\u001b[0m\u001b[0;34m.\u001b[0m\u001b[0mFloatText\u001b[0m\u001b[0;34m(\u001b[0m\u001b[0;34m)\u001b[0m\u001b[0;34m\u001b[0m\u001b[0;34m\u001b[0m\u001b[0m\n\u001b[0m\u001b[1;32m      2\u001b[0m \u001b[0mb\u001b[0m \u001b[0;34m=\u001b[0m \u001b[0mwidgets\u001b[0m\u001b[0;34m.\u001b[0m\u001b[0mFloatSlider\u001b[0m\u001b[0;34m(\u001b[0m\u001b[0;34m)\u001b[0m\u001b[0;34m\u001b[0m\u001b[0;34m\u001b[0m\u001b[0m\n\u001b[1;32m      3\u001b[0m \u001b[0mdisplay\u001b[0m\u001b[0;34m(\u001b[0m\u001b[0ma\u001b[0m\u001b[0;34m,\u001b[0m\u001b[0mb\u001b[0m\u001b[0;34m)\u001b[0m\u001b[0;34m\u001b[0m\u001b[0;34m\u001b[0m\u001b[0m\n\u001b[1;32m      4\u001b[0m \u001b[0;34m\u001b[0m\u001b[0m\n\u001b[1;32m      5\u001b[0m \u001b[0mmylink\u001b[0m \u001b[0;34m=\u001b[0m \u001b[0mwidgets\u001b[0m\u001b[0;34m.\u001b[0m\u001b[0mjslink\u001b[0m\u001b[0;34m(\u001b[0m\u001b[0;34m(\u001b[0m\u001b[0ma\u001b[0m\u001b[0;34m,\u001b[0m \u001b[0;34m'value'\u001b[0m\u001b[0;34m)\u001b[0m\u001b[0;34m,\u001b[0m \u001b[0;34m(\u001b[0m\u001b[0mb\u001b[0m\u001b[0;34m,\u001b[0m \u001b[0;34m'value'\u001b[0m\u001b[0;34m)\u001b[0m\u001b[0;34m)\u001b[0m\u001b[0;34m\u001b[0m\u001b[0;34m\u001b[0m\u001b[0m\n",
            "\u001b[0;31mNameError\u001b[0m: name 'widgets' is not defined"
          ]
        }
      ]
    }
  ]
}